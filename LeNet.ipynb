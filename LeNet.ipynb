{
 "cells": [
  {
   "cell_type": "code",
   "execution_count": 3,
   "metadata": {},
   "outputs": [],
   "source": [
    "import tensorflow as tf\n",
    "from tensorflow.keras import datasets, layers, models, optimizers\n"
   ]
  },
  {
   "cell_type": "code",
   "execution_count": 4,
   "metadata": {},
   "outputs": [],
   "source": [
    "# Define the LeNet network\n",
    "class LeNet:\n",
    "    @staticmethod\n",
    "    def build(input_shape, classes):\n",
    "        model = models.Sequential()\n",
    "        # CONV => RELU => POOL\n",
    "        model.add(layers.Conv2D(20, (5, 5), activation='relu', input_shape=input_shape))\n",
    "        model.add(layers.MaxPooling2D(pool_size=(2, 2), strides=(2, 2)))\n",
    "        # CONV => RELU => POOL\n",
    "        model.add(layers.Conv2D(50, (5, 5), activation='relu'))\n",
    "        model.add(layers.MaxPooling2D(pool_size=(2, 2), strides=(2, 2)))\n",
    "        # Flatten => RELU layers\n",
    "        model.add(layers.Flatten())\n",
    "        model.add(layers.Dense(500, activation='relu'))\n",
    "        # a softmax classifier\n",
    "        model.add(layers.Dense(classes, activation=\"softmax\"))\n",
    "        return model"
   ]
  },
  {
   "cell_type": "code",
   "execution_count": 5,
   "metadata": {},
   "outputs": [
    {
     "name": "stderr",
     "output_type": "stream",
     "text": [
      "2023-10-21 22:56:33.285849: I tensorflow/compiler/xla/stream_executor/cuda/cuda_gpu_executor.cc:982] could not open file to read NUMA node: /sys/bus/pci/devices/0000:01:00.0/numa_node\n",
      "Your kernel may have been built without NUMA support.\n",
      "2023-10-21 22:56:33.286347: W tensorflow/core/common_runtime/gpu/gpu_device.cc:1956] Cannot dlopen some GPU libraries. Please make sure the missing libraries mentioned above are installed properly if you would like to use GPU. Follow the guide at https://www.tensorflow.org/install/gpu for how to download and setup the required libraries for your platform.\n",
      "Skipping registering GPU devices...\n"
     ]
    }
   ],
   "source": [
    "# Network and training parameters\n",
    "EPOCHS = 20\n",
    "BATCH_SIZE = 128\n",
    "VERBOSE = 1\n",
    "OPTIMIZER = optimizers.Adam()\n",
    "VALIDATION_SPLIT = 0.1\n"
   ]
  },
  {
   "cell_type": "code",
   "execution_count": 6,
   "metadata": {},
   "outputs": [],
   "source": [
    "IMG_ROWS, IMG_COLS = 28, 28 # input image dimensions\n",
    "INPUT_SHAPE = (IMG_ROWS, IMG_COLS, 1)\n",
    "NB_CLASSES = 10  # number of outputs = number of digits"
   ]
  },
  {
   "cell_type": "code",
   "execution_count": 7,
   "metadata": {},
   "outputs": [],
   "source": [
    "# Load and prepare the MNIST dataset\n",
    "(X_train, y_train), (X_test, y_test) = datasets.mnist.load_data()\n",
    "X_train = X_train.reshape((60000, 28, 28, 1))\n",
    "X_test = X_test.reshape((10000, 28, 28, 1))\n",
    "X_train, X_test = X_train / 255.0, X_test / 255.0\n",
    "X_train = X_train.astype('float32')\n",
    "X_test = X_test.astype('float32')\n",
    "y_train = tf.keras.utils.to_categorical(y_train, NB_CLASSES)\n",
    "y_test = tf.keras.utils.to_categorical(y_test, NB_CLASSES)"
   ]
  },
  {
   "cell_type": "code",
   "execution_count": 8,
   "metadata": {},
   "outputs": [
    {
     "name": "stdout",
     "output_type": "stream",
     "text": [
      "Model: \"sequential\"\n",
      "_________________________________________________________________\n",
      " Layer (type)                Output Shape              Param #   \n",
      "=================================================================\n",
      " conv2d (Conv2D)             (None, 24, 24, 20)        520       \n",
      "                                                                 \n",
      " max_pooling2d (MaxPooling2D  (None, 12, 12, 20)       0         \n",
      " )                                                               \n",
      "                                                                 \n",
      " conv2d_1 (Conv2D)           (None, 8, 8, 50)          25050     \n",
      "                                                                 \n",
      " max_pooling2d_1 (MaxPooling  (None, 4, 4, 50)         0         \n",
      " 2D)                                                             \n",
      "                                                                 \n",
      " flatten (Flatten)           (None, 800)               0         \n",
      "                                                                 \n",
      " dense (Dense)               (None, 500)               400500    \n",
      "                                                                 \n",
      " dense_1 (Dense)             (None, 10)                5010      \n",
      "                                                                 \n",
      "=================================================================\n",
      "Total params: 431,080\n",
      "Trainable params: 431,080\n",
      "Non-trainable params: 0\n",
      "_________________________________________________________________\n"
     ]
    }
   ],
   "source": [
    "# Initialize the optimizer and model\n",
    "model = LeNet.build(input_shape=INPUT_SHAPE, classes=NB_CLASSES)\n",
    "model.compile(loss=\"categorical_crossentropy\", optimizer=OPTIMIZER, metrics=[\"accuracy\"])\n",
    "model.summary()\n"
   ]
  },
  {
   "cell_type": "code",
   "execution_count": 11,
   "metadata": {},
   "outputs": [
    {
     "name": "stdout",
     "output_type": "stream",
     "text": [
      "Epoch 1/20\n",
      "422/422 [==============================] - 9s 21ms/step - loss: 0.0041 - accuracy: 0.9987 - val_loss: 0.0616 - val_accuracy: 0.9893\n",
      "Epoch 2/20\n",
      "422/422 [==============================] - 8s 20ms/step - loss: 0.0037 - accuracy: 0.9987 - val_loss: 0.0338 - val_accuracy: 0.9935\n",
      "Epoch 3/20\n",
      "422/422 [==============================] - 8s 19ms/step - loss: 0.0031 - accuracy: 0.9989 - val_loss: 0.0417 - val_accuracy: 0.9930\n",
      "Epoch 4/20\n",
      "422/422 [==============================] - 8s 19ms/step - loss: 0.0027 - accuracy: 0.9991 - val_loss: 0.0456 - val_accuracy: 0.9913\n",
      "Epoch 5/20\n",
      "422/422 [==============================] - 8s 19ms/step - loss: 0.0038 - accuracy: 0.9989 - val_loss: 0.0434 - val_accuracy: 0.9932\n",
      "Epoch 6/20\n",
      "422/422 [==============================] - 8s 20ms/step - loss: 8.6683e-04 - accuracy: 0.9997 - val_loss: 0.0442 - val_accuracy: 0.9932\n",
      "Epoch 7/20\n",
      "422/422 [==============================] - 9s 21ms/step - loss: 0.0019 - accuracy: 0.9994 - val_loss: 0.0527 - val_accuracy: 0.9910\n",
      "Epoch 8/20\n",
      "422/422 [==============================] - 8s 20ms/step - loss: 0.0046 - accuracy: 0.9986 - val_loss: 0.0463 - val_accuracy: 0.9917\n",
      "Epoch 9/20\n",
      "422/422 [==============================] - 8s 19ms/step - loss: 0.0037 - accuracy: 0.9989 - val_loss: 0.0532 - val_accuracy: 0.9910\n",
      "Epoch 10/20\n",
      "422/422 [==============================] - 8s 20ms/step - loss: 0.0012 - accuracy: 0.9997 - val_loss: 0.0459 - val_accuracy: 0.9928\n",
      "Epoch 11/20\n",
      "422/422 [==============================] - 8s 19ms/step - loss: 0.0018 - accuracy: 0.9994 - val_loss: 0.0468 - val_accuracy: 0.9920\n",
      "Epoch 12/20\n",
      "422/422 [==============================] - 8s 19ms/step - loss: 0.0032 - accuracy: 0.9989 - val_loss: 0.0572 - val_accuracy: 0.9918\n",
      "Epoch 13/20\n",
      "422/422 [==============================] - 8s 19ms/step - loss: 0.0029 - accuracy: 0.9991 - val_loss: 0.0665 - val_accuracy: 0.9905\n",
      "Epoch 14/20\n",
      "422/422 [==============================] - 8s 19ms/step - loss: 0.0044 - accuracy: 0.9987 - val_loss: 0.0539 - val_accuracy: 0.9918\n",
      "Epoch 15/20\n",
      "422/422 [==============================] - 8s 19ms/step - loss: 0.0012 - accuracy: 0.9996 - val_loss: 0.0523 - val_accuracy: 0.9935\n",
      "Epoch 16/20\n",
      "422/422 [==============================] - 8s 19ms/step - loss: 1.0912e-04 - accuracy: 1.0000 - val_loss: 0.0507 - val_accuracy: 0.9938\n",
      "Epoch 17/20\n",
      "422/422 [==============================] - 8s 19ms/step - loss: 1.4444e-05 - accuracy: 1.0000 - val_loss: 0.0512 - val_accuracy: 0.9933\n",
      "Epoch 18/20\n",
      "422/422 [==============================] - 8s 20ms/step - loss: 7.4014e-06 - accuracy: 1.0000 - val_loss: 0.0517 - val_accuracy: 0.9933\n",
      "Epoch 19/20\n",
      "422/422 [==============================] - 8s 19ms/step - loss: 5.6227e-06 - accuracy: 1.0000 - val_loss: 0.0521 - val_accuracy: 0.9935\n",
      "Epoch 20/20\n",
      "422/422 [==============================] - 8s 19ms/step - loss: 4.3909e-06 - accuracy: 1.0000 - val_loss: 0.0525 - val_accuracy: 0.9937\n"
     ]
    }
   ],
   "source": [
    "# Train the model\n",
    "history = model.fit(X_train, y_train, batch_size=BATCH_SIZE, epochs=EPOCHS, verbose=VERBOSE, validation_split=VALIDATION_SPLIT)"
   ]
  },
  {
   "cell_type": "code",
   "execution_count": 10,
   "metadata": {},
   "outputs": [
    {
     "name": "stdout",
     "output_type": "stream",
     "text": [
      "313/313 [==============================] - 1s 4ms/step - loss: 0.0358 - accuracy: 0.9922\n",
      "\n",
      "Test score: 0.035807978361845016\n",
      "Test accuracy: 0.9922000169754028\n"
     ]
    }
   ],
   "source": [
    "# Evaluate the model\n",
    "score = model.evaluate(X_test, y_test, verbose=VERBOSE)\n",
    "print(\"\\nTest score:\", score[0])\n",
    "print('Test accuracy:', score[1])"
   ]
  },
  {
   "cell_type": "code",
   "execution_count": 12,
   "metadata": {},
   "outputs": [],
   "source": [
    "import numpy as np\n",
    "import matplotlib.pyplot as plt\n"
   ]
  },
  {
   "cell_type": "code",
   "execution_count": 13,
   "metadata": {},
   "outputs": [],
   "source": [
    "def plot_images(images, true_labels, predicted_labels=None):\n",
    "    assert len(images) == len(true_labels) == 9\n",
    "    \n",
    "    # Create a 3x3 subplots\n",
    "    fig, axes = plt.subplots(3, 3, figsize=(8, 8))\n",
    "    axes = axes.ravel()\n",
    "\n",
    "    for i in np.arange(0, 9):\n",
    "        axes[i].imshow(images[i].reshape(28, 28), cmap='gray')\n",
    "        axes[i].set_title(\"True: %d\" % np.argmax(true_labels[i]), fontsize=16)\n",
    "        if predicted_labels is not None:\n",
    "            axes[i].set_xlabel(\"Predicted: %d\" % np.argmax(predicted_labels[i]), fontsize=12)\n",
    "        axes[i].axis('off')\n",
    "\n",
    "    plt.subplots_adjust(wspace=0.5)\n"
   ]
  },
  {
   "cell_type": "code",
   "execution_count": 14,
   "metadata": {},
   "outputs": [
    {
     "name": "stdout",
     "output_type": "stream",
     "text": [
      "313/313 [==============================] - 2s 6ms/step\n"
     ]
    },
    {
     "data": {
      "image/png": "[encoded data removed]",
      "text/plain": [
       "<Figure size 800x800 with 9 Axes>"
      ]
     },
     "metadata": {},
     "output_type": "display_data"
    }
   ],
   "source": [
    "# Make predictions on the test set\n",
    "predicted_labels = model.predict(X_test)\n",
    "\n",
    "# Select 9 random test images and their true labels\n",
    "indices = np.random.choice(len(X_test), 9)\n",
    "images = X_test[indices]\n",
    "true_labels = y_test[indices]\n",
    "\n",
    "# Plot the images and labels\n",
    "plot_images(images, true_labels, predicted_labels=predicted_labels[indices])\n",
    "plt.show()\n"
   ]
  }
 ],
 "metadata": {
  "kernelspec": {
   "display_name": "Python 3",
   "language": "python",
   "name": "python3"
  },
  "language_info": {
   "codemirror_mode": {
    "name": "ipython",
    "version": 3
   },
   "file_extension": ".py",
   "mimetype": "text/x-python",
   "name": "python",
   "nbconvert_exporter": "python",
   "pygments_lexer": "ipython3",
   "version": "3.10.12"
  }
 },
 "nbformat": 4,
 "nbformat_minor": 2
}
