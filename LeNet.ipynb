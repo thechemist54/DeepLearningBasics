{
 "cells": [
  {
   "cell_type": "code",
   "execution_count": 3,
   "metadata": {},
   "outputs": [],
   "source": [
    "import tensorflow as tf\n",
    "from tensorflow.keras import datasets, layers, models, optimizers\n"
   ]
  },
  {
   "cell_type": "code",
   "execution_count": 4,
   "metadata": {},
   "outputs": [],
   "source": [
    "# Define the LeNet network\n",
    "class LeNet:\n",
    "    @staticmethod\n",
    "    def build(input_shape, classes):\n",
    "        model = models.Sequential()\n",
    "        # CONV => RELU => POOL\n",
    "        model.add(layers.Conv2D(20, (5, 5), activation='relu', input_shape=input_shape))\n",
    "        model.add(layers.MaxPooling2D(pool_size=(2, 2), strides=(2, 2)))\n",
    "        # CONV => RELU => POOL\n",
    "        model.add(layers.Conv2D(50, (5, 5), activation='relu'))\n",
    "        model.add(layers.MaxPooling2D(pool_size=(2, 2), strides=(2, 2)))\n",
    "        # Flatten => RELU layers\n",
    "        model.add(layers.Flatten())\n",
    "        model.add(layers.Dense(500, activation='relu'))\n",
    "        # a softmax classifier\n",
    "        model.add(layers.Dense(classes, activation=\"softmax\"))\n",
    "        return model"
   ]
  },
  {
   "cell_type": "code",
   "execution_count": 5,
   "metadata": {},
   "outputs": [
    {
     "name": "stderr",
     "output_type": "stream",
     "text": [
      "2023-10-21 22:56:33.285849: I tensorflow/compiler/xla/stream_executor/cuda/cuda_gpu_executor.cc:982] could not open file to read NUMA node: /sys/bus/pci/devices/0000:01:00.0/numa_node\n",
      "Your kernel may have been built without NUMA support.\n",
      "2023-10-21 22:56:33.286347: W tensorflow/core/common_runtime/gpu/gpu_device.cc:1956] Cannot dlopen some GPU libraries. Please make sure the missing libraries mentioned above are installed properly if you would like to use GPU. Follow the guide at https://www.tensorflow.org/install/gpu for how to download and setup the required libraries for your platform.\n",
      "Skipping registering GPU devices...\n"
     ]
    }
   ],
   "source": [
    "# Network and training parameters\n",
    "EPOCHS = 20\n",
    "BATCH_SIZE = 128\n",
    "VERBOSE = 1\n",
    "OPTIMIZER = optimizers.Adam()\n",
    "VALIDATION_SPLIT = 0.1\n"
   ]
  },
  {
   "cell_type": "code",
   "execution_count": 6,
   "metadata": {},
   "outputs": [],
   "source": [
    "IMG_ROWS, IMG_COLS = 28, 28 # input image dimensions\n",
    "INPUT_SHAPE = (IMG_ROWS, IMG_COLS, 1)\n",
    "NB_CLASSES = 10  # number of outputs = number of digits"
   ]
  },
  {
   "cell_type": "code",
   "execution_count": 7,
   "metadata": {},
   "outputs": [],
   "source": [
    "# Load and prepare the MNIST dataset\n",
    "(X_train, y_train), (X_test, y_test) = datasets.mnist.load_data()\n",
    "X_train = X_train.reshape((60000, 28, 28, 1))\n",
    "X_test = X_test.reshape((10000, 28, 28, 1))\n",
    "X_train, X_test = X_train / 255.0, X_test / 255.0\n",
    "X_train = X_train.astype('float32')\n",
    "X_test = X_test.astype('float32')\n",
    "y_train = tf.keras.utils.to_categorical(y_train, NB_CLASSES)\n",
    "y_test = tf.keras.utils.to_categorical(y_test, NB_CLASSES)"
   ]
  },
  {
   "cell_type": "code",
   "execution_count": 8,
   "metadata": {},
   "outputs": [
    {
     "name": "stdout",
     "output_type": "stream",
     "text": [
      "Model: \"sequential\"\n",
      "_________________________________________________________________\n",
      " Layer (type)                Output Shape              Param #   \n",
      "=================================================================\n",
      " conv2d (Conv2D)             (None, 24, 24, 20)        520       \n",
      "                                                                 \n",
      " max_pooling2d (MaxPooling2D  (None, 12, 12, 20)       0         \n",
      " )                                                               \n",
      "                                                                 \n",
      " conv2d_1 (Conv2D)           (None, 8, 8, 50)          25050     \n",
      "                                                                 \n",
      " max_pooling2d_1 (MaxPooling  (None, 4, 4, 50)         0         \n",
      " 2D)                                                             \n",
      "                                                                 \n",
      " flatten (Flatten)           (None, 800)               0         \n",
      "                                                                 \n",
      " dense (Dense)               (None, 500)               400500    \n",
      "                                                                 \n",
      " dense_1 (Dense)             (None, 10)                5010      \n",
      "                                                                 \n",
      "=================================================================\n",
      "Total params: 431,080\n",
      "Trainable params: 431,080\n",
      "Non-trainable params: 0\n",
      "_________________________________________________________________\n"
     ]
    }
   ],
   "source": [
    "# Initialize the optimizer and model\n",
    "model = LeNet.build(input_shape=INPUT_SHAPE, classes=NB_CLASSES)\n",
    "model.compile(loss=\"categorical_crossentropy\", optimizer=OPTIMIZER, metrics=[\"accuracy\"])\n",
    "model.summary()\n"
   ]
  },
  {
   "cell_type": "code",
   "execution_count": 9,
   "metadata": {},
   "outputs": [
    {
     "name": "stdout",
     "output_type": "stream",
     "text": [
      "Epoch 1/20\n",
      "422/422 [==============================] - 11s 23ms/step - loss: 0.1958 - accuracy: 0.9416 - val_loss: 0.0534 - val_accuracy: 0.9848\n",
      "Epoch 2/20\n",
      "422/422 [==============================] - 10s 23ms/step - loss: 0.0509 - accuracy: 0.9846 - val_loss: 0.0433 - val_accuracy: 0.9887\n",
      "Epoch 3/20\n",
      "422/422 [==============================] - 9s 21ms/step - loss: 0.0340 - accuracy: 0.9894 - val_loss: 0.0339 - val_accuracy: 0.9893\n",
      "Epoch 4/20\n",
      "422/422 [==============================] - 9s 20ms/step - loss: 0.0246 - accuracy: 0.9925 - val_loss: 0.0332 - val_accuracy: 0.9908\n",
      "Epoch 5/20\n",
      "422/422 [==============================] - 8s 20ms/step - loss: 0.0204 - accuracy: 0.9931 - val_loss: 0.0299 - val_accuracy: 0.9905\n",
      "Epoch 6/20\n",
      "422/422 [==============================] - 8s 19ms/step - loss: 0.0162 - accuracy: 0.9947 - val_loss: 0.0270 - val_accuracy: 0.9923\n",
      "Epoch 7/20\n",
      "422/422 [==============================] - 8s 19ms/step - loss: 0.0135 - accuracy: 0.9955 - val_loss: 0.0321 - val_accuracy: 0.9923\n",
      "Epoch 8/20\n",
      "422/422 [==============================] - 9s 20ms/step - loss: 0.0107 - accuracy: 0.9967 - val_loss: 0.0330 - val_accuracy: 0.9913\n",
      "Epoch 9/20\n",
      "422/422 [==============================] - 8s 19ms/step - loss: 0.0093 - accuracy: 0.9969 - val_loss: 0.0418 - val_accuracy: 0.9903\n",
      "Epoch 10/20\n",
      "422/422 [==============================] - 8s 20ms/step - loss: 0.0086 - accuracy: 0.9970 - val_loss: 0.0322 - val_accuracy: 0.9917\n",
      "Epoch 11/20\n",
      "422/422 [==============================] - 8s 20ms/step - loss: 0.0083 - accuracy: 0.9973 - val_loss: 0.0323 - val_accuracy: 0.9912\n",
      "Epoch 12/20\n",
      "422/422 [==============================] - 8s 20ms/step - loss: 0.0065 - accuracy: 0.9979 - val_loss: 0.0358 - val_accuracy: 0.9925\n",
      "Epoch 13/20\n",
      "422/422 [==============================] - 8s 20ms/step - loss: 0.0072 - accuracy: 0.9975 - val_loss: 0.0286 - val_accuracy: 0.9923\n",
      "Epoch 14/20\n",
      "422/422 [==============================] - 8s 19ms/step - loss: 0.0049 - accuracy: 0.9984 - val_loss: 0.0399 - val_accuracy: 0.9922\n",
      "Epoch 15/20\n",
      "422/422 [==============================] - 8s 19ms/step - loss: 0.0040 - accuracy: 0.9987 - val_loss: 0.0395 - val_accuracy: 0.9917\n",
      "Epoch 16/20\n",
      "422/422 [==============================] - 8s 19ms/step - loss: 0.0056 - accuracy: 0.9981 - val_loss: 0.0289 - val_accuracy: 0.9940\n",
      "Epoch 17/20\n",
      "422/422 [==============================] - 8s 19ms/step - loss: 0.0043 - accuracy: 0.9985 - val_loss: 0.0515 - val_accuracy: 0.9898\n",
      "Epoch 18/20\n",
      "422/422 [==============================] - 8s 19ms/step - loss: 0.0031 - accuracy: 0.9989 - val_loss: 0.0549 - val_accuracy: 0.9905\n",
      "Epoch 19/20\n",
      "422/422 [==============================] - 8s 19ms/step - loss: 0.0055 - accuracy: 0.9980 - val_loss: 0.0423 - val_accuracy: 0.9920\n",
      "Epoch 20/20\n",
      "422/422 [==============================] - 8s 19ms/step - loss: 0.0040 - accuracy: 0.9988 - val_loss: 0.0510 - val_accuracy: 0.9902\n"
     ]
    }
   ],
   "source": [
    "# Train the model\n",
    "history = model.fit(X_train, y_train, batch_size=BATCH_SIZE, epochs=EPOCHS, verbose=VERBOSE, validation_split=VALIDATION_SPLIT)"
   ]
  },
  {
   "cell_type": "code",
   "execution_count": 10,
   "metadata": {},
   "outputs": [
    {
     "name": "stdout",
     "output_type": "stream",
     "text": [
      "313/313 [==============================] - 1s 4ms/step - loss: 0.0358 - accuracy: 0.9922\n",
      "\n",
      "Test score: 0.035807978361845016\n",
      "Test accuracy: 0.9922000169754028\n"
     ]
    }
   ],
   "source": [
    "# Evaluate the model\n",
    "score = model.evaluate(X_test, y_test, verbose=VERBOSE)\n",
    "print(\"\\nTest score:\", score[0])\n",
    "print('Test accuracy:', score[1])"
   ]
  }
 ],
 "metadata": {
  "kernelspec": {
   "display_name": "Python 3",
   "language": "python",
   "name": "python3"
  },
  "language_info": {
   "codemirror_mode": {
    "name": "ipython",
    "version": 3
   },
   "file_extension": ".py",
   "mimetype": "text/x-python",
   "name": "python",
   "nbconvert_exporter": "python",
   "pygments_lexer": "ipython3",
   "version": "3.10.12"
  }
 },
 "nbformat": 4,
 "nbformat_minor": 2
}
