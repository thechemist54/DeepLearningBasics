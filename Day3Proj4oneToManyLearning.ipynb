{
 "cells": [
  {
   "cell_type": "code",
   "execution_count": 2,
   "metadata": {},
   "outputs": [],
   "source": [
    "import numpy as np\n",
    "import tensorflow as tf\n",
    "from tensorflow.keras.models import Sequential\n",
    "from tensorflow.keras.layers import Embedding, LSTM, Dense\n",
    "from tensorflow.keras.utils import to_categorical\n",
    "\n",
    "# Constants\n",
    "SEQUENCE_LENGTH = 40\n",
    "BATCH_SIZE = 128\n",
    "EPOCHS = 50\n"
   ]
  },
  {
   "cell_type": "code",
   "execution_count": 3,
   "metadata": {},
   "outputs": [],
   "source": [
    "# Sample data\n",
    "data = \"\"\"\n",
    "Two households, both alike in dignity,\n",
    "In fair Verona, where we lay our scene,\n",
    "From ancient grudge break to new mutiny,\n",
    "Where civil blood makes civil hands unclean.\n",
    "From forth the fatal loins of these two foes\n",
    "A pair of star-cross'd lovers take their life;\n",
    "Whose misadventured piteous overthrows\n",
    "Do with their death bury their parents' strife.\n",
    "The fearful passage of their death-mark'd love,\n",
    "And the continuance of their parents' rage,\n",
    "Which, but their children's end, nought could remove,\n",
    "Is now the two hours' traffic of our stage;\n",
    "The which if you with patient ears attend,\n",
    "What here shall miss, our toil shall strive to mend.\n",
    "\"\"\"\n",
    "\n",
    "# Convert all characters to lowercase\n",
    "data = data.lower()\n"
   ]
  },
  {
   "cell_type": "code",
   "execution_count": 4,
   "metadata": {},
   "outputs": [],
   "source": [
    "chars = sorted(list(set(data)))\n",
    "VOCAB_SIZE = len(chars)\n"
   ]
  },
  {
   "cell_type": "code",
   "execution_count": 5,
   "metadata": {},
   "outputs": [],
   "source": [
    "char_to_int = {c: i for i, c in enumerate(chars)}\n",
    "int_to_char = {i: c for i, c in enumerate(chars)}\n",
    "\n",
    "# Convert the character sequence input into an integer sequence\n",
    "int_data = [char_to_int[char] for char in data]\n"
   ]
  },
  {
   "cell_type": "code",
   "execution_count": 6,
   "metadata": {},
   "outputs": [
    {
     "name": "stderr",
     "output_type": "stream",
     "text": [
      "2023-10-08 07:55:30.877674: I tensorflow/compiler/xla/stream_executor/cuda/cuda_gpu_executor.cc:982] could not open file to read NUMA node: /sys/bus/pci/devices/0000:01:00.0/numa_node\n",
      "Your kernel may have been built without NUMA support.\n",
      "2023-10-08 07:55:30.878823: W tensorflow/core/common_runtime/gpu/gpu_device.cc:1956] Cannot dlopen some GPU libraries. Please make sure the missing libraries mentioned above are installed properly if you would like to use GPU. Follow the guide at https://www.tensorflow.org/install/gpu for how to download and setup the required libraries for your platform.\n",
      "Skipping registering GPU devices...\n",
      "2023-10-08 07:55:31.580919: I tensorflow/core/common_runtime/executor.cc:1197] [/device:CPU:0] (DEBUG INFO) Executor start aborting (this does not indicate an error and you can ignore this message): INVALID_ARGUMENT: You must feed a value for placeholder tensor 'gradients/split_2_grad/concat/split_2/split_dim' with dtype int32\n",
      "\t [[{{node gradients/split_2_grad/concat/split_2/split_dim}}]]\n",
      "2023-10-08 07:55:31.583870: I tensorflow/core/common_runtime/executor.cc:1197] [/device:CPU:0] (DEBUG INFO) Executor start aborting (this does not indicate an error and you can ignore this message): INVALID_ARGUMENT: You must feed a value for placeholder tensor 'gradients/split_grad/concat/split/split_dim' with dtype int32\n",
      "\t [[{{node gradients/split_grad/concat/split/split_dim}}]]\n",
      "2023-10-08 07:55:31.585437: I tensorflow/core/common_runtime/executor.cc:1197] [/device:CPU:0] (DEBUG INFO) Executor start aborting (this does not indicate an error and you can ignore this message): INVALID_ARGUMENT: You must feed a value for placeholder tensor 'gradients/split_1_grad/concat/split_1/split_dim' with dtype int32\n",
      "\t [[{{node gradients/split_1_grad/concat/split_1/split_dim}}]]\n",
      "2023-10-08 07:55:31.910867: I tensorflow/core/common_runtime/executor.cc:1197] [/device:CPU:0] (DEBUG INFO) Executor start aborting (this does not indicate an error and you can ignore this message): INVALID_ARGUMENT: You must feed a value for placeholder tensor 'gradients/split_2_grad/concat/split_2/split_dim' with dtype int32\n",
      "\t [[{{node gradients/split_2_grad/concat/split_2/split_dim}}]]\n",
      "2023-10-08 07:55:31.912838: I tensorflow/core/common_runtime/executor.cc:1197] [/device:CPU:0] (DEBUG INFO) Executor start aborting (this does not indicate an error and you can ignore this message): INVALID_ARGUMENT: You must feed a value for placeholder tensor 'gradients/split_grad/concat/split/split_dim' with dtype int32\n",
      "\t [[{{node gradients/split_grad/concat/split/split_dim}}]]\n",
      "2023-10-08 07:55:31.914491: I tensorflow/core/common_runtime/executor.cc:1197] [/device:CPU:0] (DEBUG INFO) Executor start aborting (this does not indicate an error and you can ignore this message): INVALID_ARGUMENT: You must feed a value for placeholder tensor 'gradients/split_1_grad/concat/split_1/split_dim' with dtype int32\n",
      "\t [[{{node gradients/split_1_grad/concat/split_1/split_dim}}]]\n"
     ]
    }
   ],
   "source": [
    "model = Sequential([\n",
    "    Embedding(VOCAB_SIZE, 256, input_length=SEQUENCE_LENGTH),\n",
    "    LSTM(512, return_sequences=True),\n",
    "    LSTM(512),\n",
    "    Dense(VOCAB_SIZE, activation='softmax')\n",
    "])\n"
   ]
  },
  {
   "cell_type": "code",
   "execution_count": 7,
   "metadata": {},
   "outputs": [],
   "source": [
    "model.compile(loss='categorical_crossentropy', optimizer='adam', metrics=['accuracy'])\n"
   ]
  },
  {
   "cell_type": "code",
   "execution_count": 8,
   "metadata": {},
   "outputs": [],
   "source": [
    "X = []\n",
    "Y = []\n",
    "\n",
    "for i in range(0, len(int_data) - SEQUENCE_LENGTH, 1):\n",
    "    sequence_in = int_data[i:i + SEQUENCE_LENGTH]\n",
    "    sequence_out = int_data[i + SEQUENCE_LENGTH]\n",
    "    X.append(sequence_in)\n",
    "    Y.append(sequence_out)\n",
    "\n",
    "X = np.array(X)\n",
    "Y = to_categorical(Y)\n"
   ]
  },
  {
   "cell_type": "code",
   "execution_count": 9,
   "metadata": {},
   "outputs": [
    {
     "name": "stdout",
     "output_type": "stream",
     "text": [
      "Epoch 1/50\n"
     ]
    },
    {
     "name": "stderr",
     "output_type": "stream",
     "text": [
      "2023-10-08 07:56:36.796462: I tensorflow/core/common_runtime/executor.cc:1197] [/device:CPU:0] (DEBUG INFO) Executor start aborting (this does not indicate an error and you can ignore this message): INVALID_ARGUMENT: You must feed a value for placeholder tensor 'gradients/split_2_grad/concat/split_2/split_dim' with dtype int32\n",
      "\t [[{{node gradients/split_2_grad/concat/split_2/split_dim}}]]\n",
      "2023-10-08 07:56:36.798954: I tensorflow/core/common_runtime/executor.cc:1197] [/device:CPU:0] (DEBUG INFO) Executor start aborting (this does not indicate an error and you can ignore this message): INVALID_ARGUMENT: You must feed a value for placeholder tensor 'gradients/split_grad/concat/split/split_dim' with dtype int32\n",
      "\t [[{{node gradients/split_grad/concat/split/split_dim}}]]\n",
      "2023-10-08 07:56:36.801097: I tensorflow/core/common_runtime/executor.cc:1197] [/device:CPU:0] (DEBUG INFO) Executor start aborting (this does not indicate an error and you can ignore this message): INVALID_ARGUMENT: You must feed a value for placeholder tensor 'gradients/split_1_grad/concat/split_1/split_dim' with dtype int32\n",
      "\t [[{{node gradients/split_1_grad/concat/split_1/split_dim}}]]\n",
      "2023-10-08 07:56:37.006048: I tensorflow/core/common_runtime/executor.cc:1197] [/device:CPU:0] (DEBUG INFO) Executor start aborting (this does not indicate an error and you can ignore this message): INVALID_ARGUMENT: You must feed a value for placeholder tensor 'gradients/split_2_grad/concat/split_2/split_dim' with dtype int32\n",
      "\t [[{{node gradients/split_2_grad/concat/split_2/split_dim}}]]\n",
      "2023-10-08 07:56:37.008508: I tensorflow/core/common_runtime/executor.cc:1197] [/device:CPU:0] (DEBUG INFO) Executor start aborting (this does not indicate an error and you can ignore this message): INVALID_ARGUMENT: You must feed a value for placeholder tensor 'gradients/split_grad/concat/split/split_dim' with dtype int32\n",
      "\t [[{{node gradients/split_grad/concat/split/split_dim}}]]\n",
      "2023-10-08 07:56:37.010490: I tensorflow/core/common_runtime/executor.cc:1197] [/device:CPU:0] (DEBUG INFO) Executor start aborting (this does not indicate an error and you can ignore this message): INVALID_ARGUMENT: You must feed a value for placeholder tensor 'gradients/split_1_grad/concat/split_1/split_dim' with dtype int32\n",
      "\t [[{{node gradients/split_1_grad/concat/split_1/split_dim}}]]\n",
      "2023-10-08 07:56:37.910028: I tensorflow/core/common_runtime/executor.cc:1197] [/device:CPU:0] (DEBUG INFO) Executor start aborting (this does not indicate an error and you can ignore this message): INVALID_ARGUMENT: You must feed a value for placeholder tensor 'gradients/split_2_grad/concat/split_2/split_dim' with dtype int32\n",
      "\t [[{{node gradients/split_2_grad/concat/split_2/split_dim}}]]\n",
      "2023-10-08 07:56:37.911789: I tensorflow/core/common_runtime/executor.cc:1197] [/device:CPU:0] (DEBUG INFO) Executor start aborting (this does not indicate an error and you can ignore this message): INVALID_ARGUMENT: You must feed a value for placeholder tensor 'gradients/split_grad/concat/split/split_dim' with dtype int32\n",
      "\t [[{{node gradients/split_grad/concat/split/split_dim}}]]\n",
      "2023-10-08 07:56:37.913373: I tensorflow/core/common_runtime/executor.cc:1197] [/device:CPU:0] (DEBUG INFO) Executor start aborting (this does not indicate an error and you can ignore this message): INVALID_ARGUMENT: You must feed a value for placeholder tensor 'gradients/split_1_grad/concat/split_1/split_dim' with dtype int32\n",
      "\t [[{{node gradients/split_1_grad/concat/split_1/split_dim}}]]\n",
      "2023-10-08 07:56:38.101131: I tensorflow/core/common_runtime/executor.cc:1197] [/device:CPU:0] (DEBUG INFO) Executor start aborting (this does not indicate an error and you can ignore this message): INVALID_ARGUMENT: You must feed a value for placeholder tensor 'gradients/split_2_grad/concat/split_2/split_dim' with dtype int32\n",
      "\t [[{{node gradients/split_2_grad/concat/split_2/split_dim}}]]\n",
      "2023-10-08 07:56:38.103310: I tensorflow/core/common_runtime/executor.cc:1197] [/device:CPU:0] (DEBUG INFO) Executor start aborting (this does not indicate an error and you can ignore this message): INVALID_ARGUMENT: You must feed a value for placeholder tensor 'gradients/split_grad/concat/split/split_dim' with dtype int32\n",
      "\t [[{{node gradients/split_grad/concat/split/split_dim}}]]\n",
      "2023-10-08 07:56:38.105049: I tensorflow/core/common_runtime/executor.cc:1197] [/device:CPU:0] (DEBUG INFO) Executor start aborting (this does not indicate an error and you can ignore this message): INVALID_ARGUMENT: You must feed a value for placeholder tensor 'gradients/split_1_grad/concat/split_1/split_dim' with dtype int32\n",
      "\t [[{{node gradients/split_1_grad/concat/split_1/split_dim}}]]\n"
     ]
    },
    {
     "name": "stdout",
     "output_type": "stream",
     "text": [
      "5/5 [==============================] - 7s 717ms/step - loss: 3.3022 - accuracy: 0.1100\n",
      "Epoch 2/50\n",
      "5/5 [==============================] - 3s 625ms/step - loss: 3.1566 - accuracy: 0.0981\n",
      "Epoch 3/50\n",
      "5/5 [==============================] - 3s 630ms/step - loss: 3.0201 - accuracy: 0.1472\n",
      "Epoch 4/50\n",
      "5/5 [==============================] - 3s 634ms/step - loss: 3.0208 - accuracy: 0.1421\n",
      "Epoch 5/50\n",
      "5/5 [==============================] - 3s 649ms/step - loss: 2.9982 - accuracy: 0.1472\n",
      "Epoch 6/50\n",
      "5/5 [==============================] - 3s 610ms/step - loss: 2.9928 - accuracy: 0.1472\n",
      "Epoch 7/50\n",
      "5/5 [==============================] - 3s 598ms/step - loss: 2.9923 - accuracy: 0.1472\n",
      "Epoch 8/50\n",
      "5/5 [==============================] - 3s 607ms/step - loss: 2.9869 - accuracy: 0.1472\n",
      "Epoch 9/50\n",
      "5/5 [==============================] - 3s 619ms/step - loss: 2.9769 - accuracy: 0.1472\n",
      "Epoch 10/50\n",
      "5/5 [==============================] - 3s 620ms/step - loss: 2.9709 - accuracy: 0.1472\n",
      "Epoch 11/50\n",
      "5/5 [==============================] - 3s 626ms/step - loss: 2.9589 - accuracy: 0.1472\n",
      "Epoch 12/50\n",
      "5/5 [==============================] - 3s 628ms/step - loss: 2.9457 - accuracy: 0.1472\n",
      "Epoch 13/50\n",
      "5/5 [==============================] - 3s 623ms/step - loss: 2.9096 - accuracy: 0.1472\n",
      "Epoch 14/50\n",
      "5/5 [==============================] - 3s 645ms/step - loss: 2.8600 - accuracy: 0.1692\n",
      "Epoch 15/50\n",
      "5/5 [==============================] - 3s 624ms/step - loss: 2.8461 - accuracy: 0.1760\n",
      "Epoch 16/50\n",
      "5/5 [==============================] - 3s 638ms/step - loss: 2.7733 - accuracy: 0.2047\n",
      "Epoch 17/50\n",
      "5/5 [==============================] - 3s 663ms/step - loss: 2.7182 - accuracy: 0.1997\n",
      "Epoch 18/50\n",
      "5/5 [==============================] - 3s 630ms/step - loss: 2.6643 - accuracy: 0.2318\n",
      "Epoch 19/50\n",
      "5/5 [==============================] - 3s 615ms/step - loss: 2.5736 - accuracy: 0.2386\n",
      "Epoch 20/50\n",
      "5/5 [==============================] - 3s 620ms/step - loss: 2.5295 - accuracy: 0.2657\n",
      "Epoch 21/50\n",
      "5/5 [==============================] - 3s 631ms/step - loss: 2.4547 - accuracy: 0.2809\n",
      "Epoch 22/50\n",
      "5/5 [==============================] - 3s 619ms/step - loss: 2.3363 - accuracy: 0.2860\n",
      "Epoch 23/50\n",
      "5/5 [==============================] - 3s 630ms/step - loss: 2.2249 - accuracy: 0.3266\n",
      "Epoch 24/50\n",
      "5/5 [==============================] - 3s 617ms/step - loss: 2.0976 - accuracy: 0.3299\n",
      "Epoch 25/50\n",
      "5/5 [==============================] - 3s 617ms/step - loss: 2.0183 - accuracy: 0.3706\n",
      "Epoch 26/50\n",
      "5/5 [==============================] - 3s 616ms/step - loss: 1.8448 - accuracy: 0.3875\n",
      "Epoch 27/50\n",
      "5/5 [==============================] - 3s 615ms/step - loss: 1.7497 - accuracy: 0.4247\n",
      "Epoch 28/50\n",
      "5/5 [==============================] - 3s 619ms/step - loss: 1.5860 - accuracy: 0.4805\n",
      "Epoch 29/50\n",
      "5/5 [==============================] - 3s 613ms/step - loss: 1.4305 - accuracy: 0.5482\n",
      "Epoch 30/50\n",
      "5/5 [==============================] - 3s 620ms/step - loss: 1.2900 - accuracy: 0.5601\n",
      "Epoch 31/50\n",
      "5/5 [==============================] - 3s 616ms/step - loss: 1.1257 - accuracy: 0.6717\n",
      "Epoch 32/50\n",
      "5/5 [==============================] - 3s 631ms/step - loss: 0.9940 - accuracy: 0.7073\n",
      "Epoch 33/50\n",
      "5/5 [==============================] - 3s 617ms/step - loss: 0.8813 - accuracy: 0.7462\n",
      "Epoch 34/50\n",
      "5/5 [==============================] - 3s 621ms/step - loss: 0.7435 - accuracy: 0.8274\n",
      "Epoch 35/50\n",
      "5/5 [==============================] - 3s 616ms/step - loss: 0.6432 - accuracy: 0.8325\n",
      "Epoch 36/50\n",
      "5/5 [==============================] - 3s 617ms/step - loss: 0.5306 - accuracy: 0.8799\n",
      "Epoch 37/50\n",
      "5/5 [==============================] - 3s 619ms/step - loss: 0.4463 - accuracy: 0.9205\n",
      "Epoch 38/50\n",
      "5/5 [==============================] - 4s 669ms/step - loss: 0.3639 - accuracy: 0.9442\n",
      "Epoch 39/50\n",
      "5/5 [==============================] - 3s 636ms/step - loss: 0.2955 - accuracy: 0.9695\n",
      "Epoch 40/50\n",
      "5/5 [==============================] - 3s 678ms/step - loss: 0.2515 - accuracy: 0.9780\n",
      "Epoch 41/50\n",
      "5/5 [==============================] - 3s 624ms/step - loss: 0.2113 - accuracy: 0.9763\n",
      "Epoch 42/50\n",
      "5/5 [==============================] - 4s 713ms/step - loss: 0.1807 - accuracy: 0.9797\n",
      "Epoch 43/50\n",
      "5/5 [==============================] - 3s 681ms/step - loss: 0.1590 - accuracy: 0.9865\n",
      "Epoch 44/50\n",
      "5/5 [==============================] - 4s 709ms/step - loss: 0.1375 - accuracy: 0.9848\n",
      "Epoch 45/50\n",
      "5/5 [==============================] - 3s 663ms/step - loss: 0.1130 - accuracy: 0.9949\n",
      "Epoch 46/50\n",
      "5/5 [==============================] - 3s 623ms/step - loss: 0.0993 - accuracy: 0.9949\n",
      "Epoch 47/50\n",
      "5/5 [==============================] - 3s 629ms/step - loss: 0.0946 - accuracy: 0.9949\n",
      "Epoch 48/50\n",
      "5/5 [==============================] - 3s 625ms/step - loss: 0.0707 - accuracy: 1.0000\n",
      "Epoch 49/50\n",
      "5/5 [==============================] - 3s 626ms/step - loss: 0.0710 - accuracy: 0.9949\n",
      "Epoch 50/50\n",
      "5/5 [==============================] - 3s 627ms/step - loss: 0.0575 - accuracy: 1.0000\n"
     ]
    },
    {
     "data": {
      "text/plain": [
       "<keras.callbacks.History at 0x7f9d741030a0>"
      ]
     },
     "execution_count": 9,
     "metadata": {},
     "output_type": "execute_result"
    }
   ],
   "source": [
    "model.fit(X, Y, batch_size=BATCH_SIZE, epochs=EPOCHS)\n"
   ]
  },
  {
   "cell_type": "markdown",
   "metadata": {},
   "source": [
    "#Output\n",
    "\"\"\"\n",
    "5/5 [==============================] - 7s 717ms/step - loss: 3.3022 - accuracy: 0.1100\n",
    "Epoch 2/50\n",
    "5/5 [==============================] - 3s 625ms/step - loss: 3.1566 - accuracy: 0.0981\n",
    "Epoch 3/50\n",
    "5/5 [==============================] - 3s 630ms/step - loss: 3.0201 - accuracy: 0.1472\n",
    "Epoch 4/50\n",
    "5/5 [==============================] - 3s 634ms/step - loss: 3.0208 - accuracy: 0.1421\n",
    "Epoch 5/50\n",
    "5/5 [==============================] - 3s 649ms/step - loss: 2.9982 - accuracy: 0.1472\n",
    "Epoch 6/50\n",
    "5/5 [==============================] - 3s 610ms/step - loss: 2.9928 - accuracy: 0.1472\n",
    "Epoch 7/50\n",
    "5/5 [==============================] - 3s 598ms/step - loss: 2.9923 - accuracy: 0.1472\n",
    "Epoch 8/50\n",
    "5/5 [==============================] - 3s 607ms/step - loss: 2.9869 - accuracy: 0.1472\n",
    "Epoch 9/50\n",
    "5/5 [==============================] - 3s 619ms/step - loss: 2.9769 - accuracy: 0.1472\n",
    "Epoch 10/50\n",
    "5/5 [==============================] - 3s 620ms/step - loss: 2.9709 - accuracy: 0.1472\n",
    "Epoch 11/50\n",
    "5/5 [==============================] - 3s 626ms/step - loss: 2.9589 - accuracy: 0.1472\n",
    "Epoch 12/50\n",
    "5/5 [==============================] - 3s 628ms/step - loss: 2.9457 - accuracy: 0.1472\n",
    "Epoch 13/50\n",
    "5/5 [==============================] - 3s 623ms/step - loss: 2.9096 - accuracy: 0.1472\n",
    "...\n",
    "Epoch 49/50\n",
    "5/5 [==============================] - 3s 626ms/step - loss: 0.0710 - accuracy: 0.9949\n",
    "Epoch 50/50\n",
    "5/5 [==============================] - 3s 627ms/step - loss: 0.0575 - accuracy: 1.0000\n",
    "\"\"\""
   ]
  }
 ],
 "metadata": {
  "kernelspec": {
   "display_name": "Python 3",
   "language": "python",
   "name": "python3"
  },
  "language_info": {
   "codemirror_mode": {
    "name": "ipython",
    "version": 3
   },
   "file_extension": ".py",
   "mimetype": "text/x-python",
   "name": "python",
   "nbconvert_exporter": "python",
   "pygments_lexer": "ipython3",
   "version": "3.10.12"
  }
 },
 "nbformat": 4,
 "nbformat_minor": 2
}
