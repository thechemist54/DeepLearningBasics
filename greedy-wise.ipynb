{
 "cells": [
  {
   "cell_type": "code",
   "execution_count": 1,
   "metadata": {},
   "outputs": [
    {
     "name": "stderr",
     "output_type": "stream",
     "text": [
      "2023-11-18 12:16:07.909522: I tensorflow/tsl/cuda/cudart_stub.cc:28] Could not find cuda drivers on your machine, GPU will not be used.\n",
      "2023-11-18 12:16:08.135887: I tensorflow/tsl/cuda/cudart_stub.cc:28] Could not find cuda drivers on your machine, GPU will not be used.\n",
      "2023-11-18 12:16:08.137495: I tensorflow/core/platform/cpu_feature_guard.cc:182] This TensorFlow binary is optimized to use available CPU instructions in performance-critical operations.\n",
      "To enable the following instructions: AVX2 FMA, in other operations, rebuild TensorFlow with the appropriate compiler flags.\n",
      "2023-11-18 12:16:09.471956: W tensorflow/compiler/tf2tensorrt/utils/py_utils.cc:38] TF-TRT Warning: Could not find TensorRT\n"
     ]
    }
   ],
   "source": [
    "import numpy as np\n",
    "from tensorflow.keras.datasets import mnist\n",
    "from tensorflow.keras.models import Sequential\n",
    "from tensorflow.keras.layers import Dense, Flatten, Reshape\n",
    "from tensorflow.keras.optimizers import Adam"
   ]
  },
  {
   "cell_type": "code",
   "execution_count": 2,
   "metadata": {},
   "outputs": [],
   "source": [
    "# 1. Load the dataset (MNIST)\n",
    "(x_train, _), (x_test, _) = mnist.load_data()  # We ignore labels for unsupervised pretraining"
   ]
  },
  {
   "cell_type": "code",
   "execution_count": 3,
   "metadata": {},
   "outputs": [],
   "source": [
    "# 2. Preprocess the dataset\n",
    "# Normalize and flatten the images\n",
    "x_train = x_train.astype('float32') / 255.\n",
    "x_test = x_test.astype('float32') / 255.\n",
    "x_train = x_train.reshape((len(x_train), np.prod(x_train.shape[1:])))\n",
    "x_test = x_test.reshape((len(x_test), np.prod(x_test.shape[1:])))"
   ]
  },
  {
   "cell_type": "code",
   "execution_count": 4,
   "metadata": {},
   "outputs": [],
   "source": [
    "# 3. Define the unsupervised learning model (AutoEncoder)\n",
    "# We will create a simple autoencoder for demonstration purposes\n",
    "def create_autoencoder(input_dim, encoding_dim):\n",
    "    autoencoder = Sequential()\n",
    "    autoencoder.add(Dense(encoding_dim, input_shape=(input_dim,), activation='relu'))\n",
    "    autoencoder.add(Dense(input_dim, activation='sigmoid'))\n",
    "    autoencoder.compile(optimizer=Adam(), loss='binary_crossentropy')\n",
    "    return autoencoder"
   ]
  },
  {
   "cell_type": "code",
   "execution_count": 7,
   "metadata": {},
   "outputs": [],
   "source": [
    "# Function to create encoder model\n",
    "def create_encoder(input_dim, encoding_dim):\n",
    "    encoder = Sequential()\n",
    "    encoder.add(Dense(encoding_dim, input_shape=(input_dim,), activation='relu'))\n",
    "    return encoder"
   ]
  },
  {
   "cell_type": "code",
   "execution_count": 9,
   "metadata": {},
   "outputs": [
    {
     "name": "stdout",
     "output_type": "stream",
     "text": [
      "1875/1875 [==============================] - 3s 1ms/step\n",
      "313/313 [==============================] - 0s 1ms/step\n",
      "1875/1875 [==============================] - 2s 1ms/step\n",
      "313/313 [==============================] - 0s 1ms/step\n",
      "1875/1875 [==============================] - 2s 1ms/step\n",
      "313/313 [==============================] - 0s 1ms/step\n",
      "Greedy layer-wise pretraining completed.\n"
     ]
    }
   ],
   "source": [
    "# 4. Pretrain each layer of the model with the dataset\n",
    "encoding_dims = [512, 256, 128]\n",
    "input_dim = x_train.shape[1]\n",
    "for encoding_dim in encoding_dims:\n",
    "    # Create an autoencoder for the current layer\n",
    "    autoencoder = create_autoencoder(input_dim, encoding_dim)\n",
    "    # Pretrain the autoencoder\n",
    "    autoencoder.fit(x_train, x_train,\n",
    "                    epochs=50,\n",
    "                    batch_size=256,\n",
    "                    shuffle=True,\n",
    "                    validation_data=(x_test, x_test),\n",
    "                    verbose=0)\n",
    "    \n",
    "    # Create a corresponding encoder model for encoding\n",
    "    encoder = create_encoder(input_dim, encoding_dim)\n",
    "    # Set weights to the encoder part of the autoencoder\n",
    "    encoder.set_weights([autoencoder.layers[0].get_weights()[0], autoencoder.layers[0].get_weights()[1]])\n",
    "    \n",
    "    # Use the encoder to generate the input for the next layer\n",
    "    x_train = encoder.predict(x_train)\n",
    "    x_test = encoder.predict(x_test)\n",
    "    \n",
    "    # Update input_dim for the next layer\n",
    "    input_dim = encoding_dim\n",
    "\n",
    "print(\"Greedy layer-wise pretraining completed.\")"
   ]
  },
  {
   "cell_type": "code",
   "execution_count": 10,
   "metadata": {},
   "outputs": [
    {
     "data": {
      "text/plain": [
       "'\\n1875/1875 [==============================] - 3s 1ms/step\\n313/313 [==============================] - 0s 1ms/step\\n1875/1875 [==============================] - 2s 1ms/step\\n313/313 [==============================] - 0s 1ms/step\\n1875/1875 [==============================] - 2s 1ms/step\\n313/313 [==============================] - 0s 1ms/step\\nGreedy layer-wise pretraining completed.\\n'"
      ]
     },
     "execution_count": 10,
     "metadata": {},
     "output_type": "execute_result"
    }
   ],
   "source": [
    "\"\"\"\n",
    "1875/1875 [==============================] - 3s 1ms/step\n",
    "313/313 [==============================] - 0s 1ms/step\n",
    "1875/1875 [==============================] - 2s 1ms/step\n",
    "313/313 [==============================] - 0s 1ms/step\n",
    "1875/1875 [==============================] - 2s 1ms/step\n",
    "313/313 [==============================] - 0s 1ms/step\n",
    "Greedy layer-wise pretraining completed.\n",
    "\"\"\""
   ]
  }
 ],
 "metadata": {
  "kernelspec": {
   "display_name": "Python 3",
   "language": "python",
   "name": "python3"
  },
  "language_info": {
   "codemirror_mode": {
    "name": "ipython",
    "version": 3
   },
   "file_extension": ".py",
   "mimetype": "text/x-python",
   "name": "python",
   "nbconvert_exporter": "python",
   "pygments_lexer": "ipython3",
   "version": "3.10.12"
  }
 },
 "nbformat": 4,
 "nbformat_minor": 2
}
