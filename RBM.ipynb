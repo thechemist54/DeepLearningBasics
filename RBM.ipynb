{
 "cells": [
  {
   "cell_type": "code",
   "execution_count": 1,
   "metadata": {},
   "outputs": [
    {
     "name": "stderr",
     "output_type": "stream",
     "text": [
      "2023-12-10 15:34:40.495019: I tensorflow/tsl/cuda/cudart_stub.cc:28] Could not find cuda drivers on your machine, GPU will not be used.\n",
      "2023-12-10 15:34:40.831968: I tensorflow/tsl/cuda/cudart_stub.cc:28] Could not find cuda drivers on your machine, GPU will not be used.\n",
      "2023-12-10 15:34:40.833971: I tensorflow/core/platform/cpu_feature_guard.cc:182] This TensorFlow binary is optimized to use available CPU instructions in performance-critical operations.\n",
      "To enable the following instructions: AVX2 FMA, in other operations, rebuild TensorFlow with the appropriate compiler flags.\n",
      "2023-12-10 15:34:42.323422: W tensorflow/compiler/tf2tensorrt/utils/py_utils.cc:38] TF-TRT Warning: Could not find TensorRT\n"
     ]
    }
   ],
   "source": [
    "import tensorflow as tf\n",
    "import numpy as np\n",
    "import matplotlib.pyplot as plt"
   ]
  },
  {
   "cell_type": "code",
   "execution_count": 7,
   "metadata": {},
   "outputs": [],
   "source": [
    "# Define the Restricted Boltzmann Machine (RBM) class\n",
    "class RBM:\n",
    "    def __init__(self, visible_dim, hidden_dim):\n",
    "        self.weights = tf.cast(tf.random.normal(shape=[visible_dim, hidden_dim], stddev=0.01), tf.float32)\n",
    "        self.visible_bias = tf.cast(tf.zeros([visible_dim]), tf.float32)\n",
    "        self.hidden_bias = tf.cast(tf.zeros([hidden_dim]), tf.float32)\n",
    "\n",
    "\n",
    "    def sample_hidden(self, visible):\n",
    "        visible = tf.cast(visible, tf.float32)  # Cast to float32\n",
    "        hidden_activation = tf.matmul(visible, self.weights) + self.hidden_bias\n",
    "        hidden_probs = tf.sigmoid(hidden_activation)\n",
    "        return tf.nn.relu(tf.sign(hidden_probs - tf.random.uniform(tf.shape(hidden_probs))))\n",
    "\n",
    "    def sample_visible(self, hidden):\n",
    "        hidden = tf.cast(hidden, tf.float32)  # Cast to float32\n",
    "        visible_activation = tf.matmul(hidden, tf.transpose(self.weights)) + self.visible_bias\n",
    "        visible_probs = tf.sigmoid(visible_activation)\n",
    "        return tf.nn.relu(tf.sign(visible_probs - tf.random.uniform(tf.shape(visible_probs))))\n",
    "\n",
    "\n",
    "    def train(self, data, lr=0.01, epochs=10, batch_size=100):\n",
    "        data = tf.cast(data, tf.float32)  # Ensure the data is of type float32\n",
    "        \n",
    "        for epoch in range(epochs):\n",
    "            for i in range(0, data.shape[0], batch_size):\n",
    "                batch = data[i:i+batch_size]\n",
    "                v0 = batch\n",
    "                h0 = self.sample_hidden(v0)\n",
    "                v1 = self.sample_visible(h0)\n",
    "                h1 = self.sample_hidden(v1)\n",
    "\n",
    "                positive_grad = tf.matmul(tf.transpose(v0), h0)\n",
    "                negative_grad = tf.matmul(tf.transpose(v1), h1)\n",
    "\n",
    "                self.weights += lr * (positive_grad - negative_grad) / tf.cast(tf.shape(v0)[0], tf.float32)\n",
    "                self.visible_bias += lr * tf.reduce_mean(v0 - v1, 0)\n",
    "                self.hidden_bias += lr * tf.reduce_mean(h0 - h1, 0)\n",
    "\n",
    "            error = tf.reduce_mean(tf.square(data - self.sample_visible(self.sample_hidden(data))))\n",
    "            print(f'Epoch {epoch+1}, Reconstruction Error: {error.numpy()}')\n"
   ]
  },
  {
   "cell_type": "code",
   "execution_count": 10,
   "metadata": {},
   "outputs": [
    {
     "name": "stdout",
     "output_type": "stream",
     "text": [
      "Epoch 1, Reconstruction Error: 0.1494099199771881\n",
      "Epoch 2, Reconstruction Error: 0.12294284999370575\n",
      "Epoch 3, Reconstruction Error: 0.11259932816028595\n",
      "Epoch 4, Reconstruction Error: 0.1065092384815216\n",
      "Epoch 5, Reconstruction Error: 0.10161720961332321\n"
     ]
    }
   ],
   "source": [
    "# Load MNIST dataset\n",
    "mnist = tf.keras.datasets.mnist\n",
    "(train_images, _), _ = mnist.load_data()\n",
    "\n",
    "# Normalize and flatten the images\n",
    "train_images = train_images / 255.0\n",
    "train_images = tf.reshape(train_images, [train_images.shape[0], -1])  # Flatten the images\n",
    "\n",
    "# Create RBM instance\n",
    "visible_dim = 784 # for MNIST 28x28 images\n",
    "hidden_dim = 64   # number of hidden units\n",
    "rbm = RBM(visible_dim, hidden_dim)\n",
    "\n",
    "# Train the RBM\n",
    "rbm.train(train_images, epochs=5)"
   ]
  },
  {
   "cell_type": "code",
   "execution_count": 12,
   "metadata": {},
   "outputs": [
    {
     "data": {
      "image/png": "[encoded data removed]",
      "text/plain": [
       "<Figure size 2000x400 with 20 Axes>"
      ]
     },
     "metadata": {},
     "output_type": "display_data"
    }
   ],
   "source": [
    "# Plotting original and reconstructed images\n",
    "def plot_images(original, reconstructed, n=10):\n",
    "    plt.figure(figsize=(20, 4))\n",
    "    for i in range(n):\n",
    "        # Display original image\n",
    "        ax = plt.subplot(2, n, i + 1)\n",
    "        # Use tf.reshape to reshape the image for plotting\n",
    "        original_image = tf.reshape(original[i], [28, 28])\n",
    "        plt.imshow(original_image, cmap='gray')\n",
    "        ax.get_xaxis().set_visible(False)\n",
    "        ax.get_yaxis().set_visible(False)\n",
    "\n",
    "        # Display reconstructed image\n",
    "        ax = plt.subplot(2, n, i + 1 + n)\n",
    "        # Use tf.reshape to reshape the image for plotting\n",
    "        reconstructed_image = tf.reshape(reconstructed[i], [28, 28])\n",
    "        plt.imshow(reconstructed_image, cmap='gray')\n",
    "        ax.get_xaxis().set_visible(False)\n",
    "        ax.get_yaxis().set_visible(False)\n",
    "    plt.show()\n",
    "\n",
    "# Select a subset of images to visualize original and reconstructed images\n",
    "sample_images = train_images[:10]\n",
    "sample_images_reconstructed = rbm.sample_visible(rbm.sample_hidden(sample_images))\n",
    "\n",
    "plot_images(sample_images, sample_images_reconstructed)"
   ]
  }
 ],
 "metadata": {
  "kernelspec": {
   "display_name": "Python 3",
   "language": "python",
   "name": "python3"
  },
  "language_info": {
   "codemirror_mode": {
    "name": "ipython",
    "version": 3
   },
   "file_extension": ".py",
   "mimetype": "text/x-python",
   "name": "python",
   "nbconvert_exporter": "python",
   "pygments_lexer": "ipython3",
   "version": "3.10.12"
  }
 },
 "nbformat": 4,
 "nbformat_minor": 2
}
